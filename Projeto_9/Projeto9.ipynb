{
 "cells": [
  {
   "cell_type": "markdown",
   "id": "3d5ab76f",
   "metadata": {},
   "source": [
    "<!-- Projeto Desenvolvido na Data Science Academy - www.datascienceacademy.com.br -->\n",
    "# <font color='blue'>Data Science Academy</font>\n",
    "## <font color='blue'>Data Science Para Análise Multivariada de Dados</font>\n",
    "## <font color='blue'>Projeto 9</font>\n",
    "### <font color='blue'>Data Science no Agronegócio</font>\n",
    "### <font color='blue'>Previsão de Rendimento de Colheita e Otimização da Irrigação</font>"
   ]
  },
  {
   "cell_type": "markdown",
   "id": "cdc240d6",
   "metadata": {},
   "source": [
    "## Instalando e Carregando os Pacotes\n",
    "<!-- Projeto Desenvolvido na Data Science Academy - www.datascienceacademy.com.br -->"
   ]
  },
  {
   "cell_type": "code",
   "execution_count": null,
   "id": "97d4c1b1",
   "metadata": {},
   "outputs": [],
   "source": [
    "!pip install -q -U watermark"
   ]
  },
  {
   "cell_type": "markdown",
   "id": "52c039f6",
   "metadata": {},
   "source": [
    "https://www.tensorflow.org/"
   ]
  },
  {
   "cell_type": "code",
   "execution_count": 1,
   "id": "b1364fea",
   "metadata": {},
   "outputs": [
    {
     "name": "stdout",
     "output_type": "stream",
     "text": [
      "env: TF_CPP_MIN_LOG_LEVEL=3\n"
     ]
    }
   ],
   "source": [
    "%env TF_CPP_MIN_LOG_LEVEL=3"
   ]
  },
  {
   "cell_type": "code",
   "execution_count": 2,
   "id": "eec3660d",
   "metadata": {},
   "outputs": [],
   "source": [
    "# Imports\n",
    "import joblib\n",
    "import sklearn\n",
    "import pandas as pd\n",
    "import tensorflow as tf\n",
    "from sklearn.model_selection import train_test_split\n",
    "from sklearn.preprocessing import StandardScaler\n",
    "from tensorflow.keras.models import Sequential\n",
    "from tensorflow.keras.layers import Dense, Dropout\n",
    "from tensorflow.keras.callbacks import EarlyStopping, ModelCheckpoint\n",
    "import warnings\n",
    "warnings.filterwarnings('ignore')"
   ]
  },
  {
   "cell_type": "code",
   "execution_count": null,
   "id": "7a2d4bbb",
   "metadata": {},
   "outputs": [],
   "source": [
    "%reload_ext watermark\n",
    "%watermark -a \"Data Science Academy\""
   ]
  },
  {
   "cell_type": "markdown",
   "id": "e10aff27",
   "metadata": {},
   "source": [
    "## Carregando o Conjunto de Dados"
   ]
  },
  {
   "cell_type": "code",
   "execution_count": 3,
   "id": "f177e985",
   "metadata": {},
   "outputs": [],
   "source": [
    "# Carregar o dataset\n",
    "df_dsa = pd.read_csv('dataset.csv')"
   ]
  },
  {
   "cell_type": "code",
   "execution_count": 4,
   "id": "d2fc687d",
   "metadata": {},
   "outputs": [
    {
     "data": {
      "text/plain": [
       "(124, 12)"
      ]
     },
     "execution_count": 4,
     "metadata": {},
     "output_type": "execute_result"
    }
   ],
   "source": [
    "df_dsa.shape"
   ]
  },
  {
   "cell_type": "code",
   "execution_count": 5,
   "id": "ee4c7fd0",
   "metadata": {},
   "outputs": [
    {
     "data": {
      "text/html": [
       "<div>\n",
       "<style scoped>\n",
       "    .dataframe tbody tr th:only-of-type {\n",
       "        vertical-align: middle;\n",
       "    }\n",
       "\n",
       "    .dataframe tbody tr th {\n",
       "        vertical-align: top;\n",
       "    }\n",
       "\n",
       "    .dataframe thead th {\n",
       "        text-align: right;\n",
       "    }\n",
       "</style>\n",
       "<table border=\"1\" class=\"dataframe\">\n",
       "  <thead>\n",
       "    <tr style=\"text-align: right;\">\n",
       "      <th></th>\n",
       "      <th>data</th>\n",
       "      <th>indice_vegetacao</th>\n",
       "      <th>capacidade_solo</th>\n",
       "      <th>concentracao_co2</th>\n",
       "      <th>nivel_nutrientes</th>\n",
       "      <th>indice_fertilizantes</th>\n",
       "      <th>profundidade_raiz</th>\n",
       "      <th>radiacao_solar</th>\n",
       "      <th>precipitacao</th>\n",
       "      <th>estagio_crescimento</th>\n",
       "      <th>historico_rendimento</th>\n",
       "      <th>umidade</th>\n",
       "    </tr>\n",
       "  </thead>\n",
       "  <tbody>\n",
       "    <tr>\n",
       "      <th>0</th>\n",
       "      <td>2012-12-01</td>\n",
       "      <td>323</td>\n",
       "      <td>455</td>\n",
       "      <td>3102.61</td>\n",
       "      <td>423.45</td>\n",
       "      <td>844.0</td>\n",
       "      <td>468.0</td>\n",
       "      <td>578.0</td>\n",
       "      <td>28.67</td>\n",
       "      <td>207.70504</td>\n",
       "      <td>117.7</td>\n",
       "      <td>79.261905</td>\n",
       "    </tr>\n",
       "    <tr>\n",
       "      <th>1</th>\n",
       "      <td>2013-01-01</td>\n",
       "      <td>345</td>\n",
       "      <td>546</td>\n",
       "      <td>3100.45</td>\n",
       "      <td>415.85</td>\n",
       "      <td>799.0</td>\n",
       "      <td>485.0</td>\n",
       "      <td>557.0</td>\n",
       "      <td>24.49</td>\n",
       "      <td>228.94287</td>\n",
       "      <td>4.5</td>\n",
       "      <td>82.193548</td>\n",
       "    </tr>\n",
       "    <tr>\n",
       "      <th>2</th>\n",
       "      <td>2013-02-01</td>\n",
       "      <td>362</td>\n",
       "      <td>595</td>\n",
       "      <td>3199.41</td>\n",
       "      <td>410.77</td>\n",
       "      <td>718.0</td>\n",
       "      <td>466.0</td>\n",
       "      <td>552.0</td>\n",
       "      <td>22.06</td>\n",
       "      <td>238.41747</td>\n",
       "      <td>25.1</td>\n",
       "      <td>74.839286</td>\n",
       "    </tr>\n",
       "    <tr>\n",
       "      <th>3</th>\n",
       "      <td>2013-03-01</td>\n",
       "      <td>376</td>\n",
       "      <td>636</td>\n",
       "      <td>3281.67</td>\n",
       "      <td>414.82</td>\n",
       "      <td>614.0</td>\n",
       "      <td>442.0</td>\n",
       "      <td>574.0</td>\n",
       "      <td>21.64</td>\n",
       "      <td>218.47599</td>\n",
       "      <td>53.6</td>\n",
       "      <td>77.935484</td>\n",
       "    </tr>\n",
       "    <tr>\n",
       "      <th>4</th>\n",
       "      <td>2013-04-01</td>\n",
       "      <td>383</td>\n",
       "      <td>738</td>\n",
       "      <td>3261.65</td>\n",
       "      <td>451.04</td>\n",
       "      <td>619.0</td>\n",
       "      <td>429.0</td>\n",
       "      <td>595.0</td>\n",
       "      <td>22.30</td>\n",
       "      <td>226.15010</td>\n",
       "      <td>166.0</td>\n",
       "      <td>80.450000</td>\n",
       "    </tr>\n",
       "  </tbody>\n",
       "</table>\n",
       "</div>"
      ],
      "text/plain": [
       "         data  indice_vegetacao  capacidade_solo  concentracao_co2  \\\n",
       "0  2012-12-01               323              455           3102.61   \n",
       "1  2013-01-01               345              546           3100.45   \n",
       "2  2013-02-01               362              595           3199.41   \n",
       "3  2013-03-01               376              636           3281.67   \n",
       "4  2013-04-01               383              738           3261.65   \n",
       "\n",
       "   nivel_nutrientes  indice_fertilizantes  profundidade_raiz  radiacao_solar  \\\n",
       "0            423.45                 844.0              468.0           578.0   \n",
       "1            415.85                 799.0              485.0           557.0   \n",
       "2            410.77                 718.0              466.0           552.0   \n",
       "3            414.82                 614.0              442.0           574.0   \n",
       "4            451.04                 619.0              429.0           595.0   \n",
       "\n",
       "   precipitacao  estagio_crescimento  historico_rendimento    umidade  \n",
       "0         28.67            207.70504                 117.7  79.261905  \n",
       "1         24.49            228.94287                   4.5  82.193548  \n",
       "2         22.06            238.41747                  25.1  74.839286  \n",
       "3         21.64            218.47599                  53.6  77.935484  \n",
       "4         22.30            226.15010                 166.0  80.450000  "
      ]
     },
     "execution_count": 5,
     "metadata": {},
     "output_type": "execute_result"
    }
   ],
   "source": [
    "df_dsa.head()"
   ]
  },
  {
   "cell_type": "code",
   "execution_count": 6,
   "id": "1ff0b2b4",
   "metadata": {},
   "outputs": [
    {
     "data": {
      "text/html": [
       "<div>\n",
       "<style scoped>\n",
       "    .dataframe tbody tr th:only-of-type {\n",
       "        vertical-align: middle;\n",
       "    }\n",
       "\n",
       "    .dataframe tbody tr th {\n",
       "        vertical-align: top;\n",
       "    }\n",
       "\n",
       "    .dataframe thead th {\n",
       "        text-align: right;\n",
       "    }\n",
       "</style>\n",
       "<table border=\"1\" class=\"dataframe\">\n",
       "  <thead>\n",
       "    <tr style=\"text-align: right;\">\n",
       "      <th></th>\n",
       "      <th>data</th>\n",
       "      <th>indice_vegetacao</th>\n",
       "      <th>capacidade_solo</th>\n",
       "      <th>concentracao_co2</th>\n",
       "      <th>nivel_nutrientes</th>\n",
       "      <th>indice_fertilizantes</th>\n",
       "      <th>profundidade_raiz</th>\n",
       "      <th>radiacao_solar</th>\n",
       "      <th>precipitacao</th>\n",
       "      <th>estagio_crescimento</th>\n",
       "      <th>historico_rendimento</th>\n",
       "      <th>umidade</th>\n",
       "    </tr>\n",
       "  </thead>\n",
       "  <tbody>\n",
       "    <tr>\n",
       "      <th>119</th>\n",
       "      <td>2022-11-01</td>\n",
       "      <td>362</td>\n",
       "      <td>363</td>\n",
       "      <td>2626.91</td>\n",
       "      <td>1252.78</td>\n",
       "      <td>738.07</td>\n",
       "      <td>427.49</td>\n",
       "      <td>1430.48</td>\n",
       "      <td>60.18</td>\n",
       "      <td>186.68326</td>\n",
       "      <td>38.2</td>\n",
       "      <td>77.950000</td>\n",
       "    </tr>\n",
       "    <tr>\n",
       "      <th>120</th>\n",
       "      <td>2022-12-01</td>\n",
       "      <td>310</td>\n",
       "      <td>322</td>\n",
       "      <td>2736.64</td>\n",
       "      <td>1287.68</td>\n",
       "      <td>749.57</td>\n",
       "      <td>385.09</td>\n",
       "      <td>1472.27</td>\n",
       "      <td>62.25</td>\n",
       "      <td>210.72987</td>\n",
       "      <td>33.7</td>\n",
       "      <td>76.177419</td>\n",
       "    </tr>\n",
       "    <tr>\n",
       "      <th>121</th>\n",
       "      <td>2023-01-01</td>\n",
       "      <td>277</td>\n",
       "      <td>307</td>\n",
       "      <td>2842.81</td>\n",
       "      <td>1289.12</td>\n",
       "      <td>761.60</td>\n",
       "      <td>373.03</td>\n",
       "      <td>1525.43</td>\n",
       "      <td>63.04</td>\n",
       "      <td>244.41912</td>\n",
       "      <td>4.6</td>\n",
       "      <td>74.774194</td>\n",
       "    </tr>\n",
       "    <tr>\n",
       "      <th>122</th>\n",
       "      <td>2023-02-01</td>\n",
       "      <td>323</td>\n",
       "      <td>330</td>\n",
       "      <td>2936.19</td>\n",
       "      <td>1303.59</td>\n",
       "      <td>759.59</td>\n",
       "      <td>390.69</td>\n",
       "      <td>1572.25</td>\n",
       "      <td>71.52</td>\n",
       "      <td>223.31732</td>\n",
       "      <td>6.9</td>\n",
       "      <td>66.910714</td>\n",
       "    </tr>\n",
       "    <tr>\n",
       "      <th>123</th>\n",
       "      <td>2023-03-01</td>\n",
       "      <td>360</td>\n",
       "      <td>339</td>\n",
       "      <td>2847.84</td>\n",
       "      <td>1234.88</td>\n",
       "      <td>771.62</td>\n",
       "      <td>396.87</td>\n",
       "      <td>1302.61</td>\n",
       "      <td>74.80</td>\n",
       "      <td>228.56676</td>\n",
       "      <td>41.5</td>\n",
       "      <td>69.000000</td>\n",
       "    </tr>\n",
       "  </tbody>\n",
       "</table>\n",
       "</div>"
      ],
      "text/plain": [
       "           data  indice_vegetacao  capacidade_solo  concentracao_co2  \\\n",
       "119  2022-11-01               362              363           2626.91   \n",
       "120  2022-12-01               310              322           2736.64   \n",
       "121  2023-01-01               277              307           2842.81   \n",
       "122  2023-02-01               323              330           2936.19   \n",
       "123  2023-03-01               360              339           2847.84   \n",
       "\n",
       "     nivel_nutrientes  indice_fertilizantes  profundidade_raiz  \\\n",
       "119           1252.78                738.07             427.49   \n",
       "120           1287.68                749.57             385.09   \n",
       "121           1289.12                761.60             373.03   \n",
       "122           1303.59                759.59             390.69   \n",
       "123           1234.88                771.62             396.87   \n",
       "\n",
       "     radiacao_solar  precipitacao  estagio_crescimento  historico_rendimento  \\\n",
       "119         1430.48         60.18            186.68326                  38.2   \n",
       "120         1472.27         62.25            210.72987                  33.7   \n",
       "121         1525.43         63.04            244.41912                   4.6   \n",
       "122         1572.25         71.52            223.31732                   6.9   \n",
       "123         1302.61         74.80            228.56676                  41.5   \n",
       "\n",
       "       umidade  \n",
       "119  77.950000  \n",
       "120  76.177419  \n",
       "121  74.774194  \n",
       "122  66.910714  \n",
       "123  69.000000  "
      ]
     },
     "execution_count": 6,
     "metadata": {},
     "output_type": "execute_result"
    }
   ],
   "source": [
    "df_dsa.tail()"
   ]
  },
  {
   "cell_type": "markdown",
   "id": "4f76e1c5",
   "metadata": {},
   "source": [
    "## Análise Exploratória"
   ]
  },
  {
   "cell_type": "code",
   "execution_count": 7,
   "id": "e429162f",
   "metadata": {},
   "outputs": [
    {
     "data": {
      "text/plain": [
       "data                     object\n",
       "indice_vegetacao          int64\n",
       "capacidade_solo           int64\n",
       "concentracao_co2        float64\n",
       "nivel_nutrientes        float64\n",
       "indice_fertilizantes    float64\n",
       "profundidade_raiz       float64\n",
       "radiacao_solar          float64\n",
       "precipitacao            float64\n",
       "estagio_crescimento     float64\n",
       "historico_rendimento    float64\n",
       "umidade                 float64\n",
       "dtype: object"
      ]
     },
     "execution_count": 7,
     "metadata": {},
     "output_type": "execute_result"
    }
   ],
   "source": [
    "# Verificar os tipos de dados das colunas\n",
    "df_dsa.dtypes"
   ]
  },
  {
   "cell_type": "code",
   "execution_count": 8,
   "id": "bede5e5b",
   "metadata": {},
   "outputs": [
    {
     "data": {
      "text/plain": [
       "Index(['data', 'indice_vegetacao', 'capacidade_solo', 'concentracao_co2',\n",
       "       'nivel_nutrientes', 'indice_fertilizantes', 'profundidade_raiz',\n",
       "       'radiacao_solar', 'precipitacao', 'estagio_crescimento',\n",
       "       'historico_rendimento', 'umidade'],\n",
       "      dtype='object')"
      ]
     },
     "execution_count": 8,
     "metadata": {},
     "output_type": "execute_result"
    }
   ],
   "source": [
    "# Exibir as colunas do dataset\n",
    "df_dsa.columns"
   ]
  },
  {
   "cell_type": "code",
   "execution_count": 9,
   "id": "e08bc1d7",
   "metadata": {},
   "outputs": [
    {
     "name": "stdout",
     "output_type": "stream",
     "text": [
      "Colunas não numéricas: Index(['data'], dtype='object')\n"
     ]
    }
   ],
   "source": [
    "# Identificar colunas não numéricas\n",
    "non_numeric_columns = df_dsa.select_dtypes(include = ['object']).columns\n",
    "print(f'Colunas não numéricas: {non_numeric_columns}')"
   ]
  },
  {
   "cell_type": "markdown",
   "id": "e61a5e90",
   "metadata": {},
   "source": [
    "## Limpeza e Transformação"
   ]
  },
  {
   "cell_type": "code",
   "execution_count": 10,
   "id": "bd127542",
   "metadata": {},
   "outputs": [],
   "source": [
    "# Remover colunas não numéricas (se não forem necessárias)\n",
    "df_dsa = df_dsa.drop(columns = non_numeric_columns)"
   ]
  },
  {
   "cell_type": "code",
   "execution_count": 11,
   "id": "fa4b6ed0",
   "metadata": {},
   "outputs": [],
   "source": [
    "# Verificar se a coluna 'umidade' contém valores numéricos\n",
    "if df_dsa['umidade'].dtype == 'object':\n",
    "    df_dsa['umidade'] = pd.to_numeric(df_dsa['umidade'], errors = 'coerce')"
   ]
  },
  {
   "cell_type": "code",
   "execution_count": 12,
   "id": "c4e059a8",
   "metadata": {},
   "outputs": [],
   "source": [
    "# Remover linhas com valores faltantes\n",
    "df_dsa = df_dsa.dropna()"
   ]
  },
  {
   "cell_type": "markdown",
   "id": "b6202829",
   "metadata": {},
   "source": [
    "## Padronização dos Dados"
   ]
  },
  {
   "cell_type": "code",
   "execution_count": 13,
   "id": "3b21c85d",
   "metadata": {},
   "outputs": [],
   "source": [
    "# Separar preditores e variável alvo\n",
    "X = df_dsa.drop(columns = 'umidade')\n",
    "y = df_dsa['umidade']"
   ]
  },
  {
   "cell_type": "code",
   "execution_count": 14,
   "id": "7c988014",
   "metadata": {},
   "outputs": [],
   "source": [
    "# Dividir os dados em conjunto de treino e teste\n",
    "X_treino, X_teste, y_treino, y_teste = train_test_split(X, y, test_size = 0.2, random_state = 42)"
   ]
  },
  {
   "cell_type": "code",
   "execution_count": 15,
   "id": "defd575e",
   "metadata": {},
   "outputs": [],
   "source": [
    "# Cria o padronizador\n",
    "scaler = StandardScaler()"
   ]
  },
  {
   "cell_type": "code",
   "execution_count": 16,
   "id": "1d2acd6a",
   "metadata": {},
   "outputs": [],
   "source": [
    "# Padroniza os dados\n",
    "X_treino_scaled = scaler.fit_transform(X_treino)\n",
    "X_teste_scaled = scaler.transform(X_teste)"
   ]
  },
  {
   "cell_type": "code",
   "execution_count": 17,
   "id": "961d217a",
   "metadata": {},
   "outputs": [
    {
     "data": {
      "text/plain": [
       "['scaler_dsa.joblib']"
      ]
     },
     "execution_count": 17,
     "metadata": {},
     "output_type": "execute_result"
    }
   ],
   "source": [
    "# Salva o padronizador no disco\n",
    "joblib.dump(scaler, 'scaler_dsa.joblib')"
   ]
  },
  {
   "cell_type": "markdown",
   "id": "1c89ec92",
   "metadata": {},
   "source": [
    "## Construção do Modelo\n",
    "\n",
    "Acompanhe os detalhes no videobook do Capítulo 19."
   ]
  },
  {
   "cell_type": "code",
   "execution_count": 18,
   "id": "a50a7101",
   "metadata": {},
   "outputs": [],
   "source": [
    "# Definir a arquitetura do modelo\n",
    "modelo_dsa = Sequential([Dense(64, activation = 'relu', input_shape = (X_treino.shape[1],)),\n",
    "                         Dropout(0.3),\n",
    "                         Dense(32, activation = 'relu'),\n",
    "                         Dropout(0.3),\n",
    "                         Dense(16, activation = 'relu'),\n",
    "                         Dense(1)])"
   ]
  },
  {
   "cell_type": "markdown",
   "id": "b0ba4579",
   "metadata": {},
   "source": [
    "O código acima define a arquitetura de um modelo de rede neural sequencial utilizando a biblioteca Keras. Aqui está uma explicação detalhada de cada linha:\n",
    "\n",
    "**modelo_dsa = Sequential([ ... ])**: Cria um modelo sequencial, que é uma pilha linear de camadas.\n",
    "\n",
    "**Dense(64, activation='relu', input_shape=(X_treino.shape[1],))**: Adiciona uma camada densa (totalmente conectada) com 64 neurônios e função de ativação ReLU (Rectified Linear Unit). A input_shape especifica a forma dos dados de entrada, que corresponde ao número de características (colunas) em X_treino.\n",
    "\n",
    "**Dropout(0.3)**: Adiciona uma camada de dropout com uma taxa de 30%. Dropout é uma técnica de regularização que desativa aleatoriamente 30% dos neurônios durante o treinamento para prevenir o overfitting.\n",
    "\n",
    "**Dense(32, activation='relu')**: Adiciona outra camada densa com 32 neurônios e função de ativação ReLU.\n",
    "\n",
    "**Dropout(0.3)**: Adiciona mais uma camada de dropout com uma taxa de 30%.\n",
    "\n",
    "**Dense(16, activation='relu')**: Adiciona mais uma camada densa com 16 neurônios e função de ativação ReLU.\n",
    "\n",
    "**Dense(1)**: Adiciona a camada de saída com um único neurônio. Não é especificada uma função de ativação, o que é comum em problemas de regressão, onde a saída é um valor contínuo. Se fosse um problema de classificação binária, uma ativação sigmoid poderia ser usada nesta camada.\n",
    "\n",
    "Essa arquitetura é típica para problemas de regressão onde se deseja prever um único valor contínuo a partir de múltiplas características de entrada."
   ]
  },
  {
   "cell_type": "markdown",
   "id": "5a5c4823",
   "metadata": {},
   "source": [
    "## Compilação do Modelo\n",
    "\n",
    "Acompanhe os detalhes no videobook do Capítulo 19."
   ]
  },
  {
   "cell_type": "code",
   "execution_count": 19,
   "id": "5941799a",
   "metadata": {},
   "outputs": [],
   "source": [
    "# Compilar o modelo\n",
    "modelo_dsa.compile(optimizer = 'adam', loss = 'mse', metrics = ['mae'])"
   ]
  },
  {
   "cell_type": "markdown",
   "id": "e25e9830",
   "metadata": {},
   "source": [
    "O código acima compila o modelo de rede neural que foi definido anteriormente. A compilação é um passo necessário antes de treinar o modelo. Aqui está uma explicação de cada parte do código:\n",
    "\n",
    "**modelo_dsa.compile(...)**: Compila o modelo, configurando-o para treinamento com um otimizador, uma função de perda e métricas.\n",
    "\n",
    "**optimizer='adam'**: Define o otimizador como 'adam'. O Adam (Adaptive Moment Estimation) é um otimizador eficiente e amplamente utilizado em redes neurais, combinando as vantagens dos algoritmos de Gradient Descent com Momentum e RMSProp. Ele ajusta dinamicamente a taxa de aprendizado durante o treinamento.\n",
    "\n",
    "**loss='mse'**: Define a função de perda como 'mse' (Mean Squared Error). MSE é uma função de perda comum em problemas de regressão, que calcula a média dos quadrados das diferenças entre os valores previstos e os valores reais. É usada para medir o desempenho do modelo, com valores menores indicando um melhor ajuste.\n",
    "\n",
    "**metrics=['mae']**: Especifica que a métrica a ser monitorada durante o treinamento é 'mae' (Mean Absolute Error). MAE é a média dos valores absolutos das diferenças entre os valores previstos e os valores reais. Assim como MSE, valores menores de MAE indicam um melhor desempenho do modelo, mas MAE é menos sensível a grandes erros do que MSE.\n",
    "\n",
    "Compilar o modelo é um passo essencial que define como o modelo será otimizado e avaliado durante o treinamento."
   ]
  },
  {
   "cell_type": "markdown",
   "id": "4820e81c",
   "metadata": {},
   "source": [
    "## Definindo os Callbacks\n",
    "\n",
    "Acompanhe os detalhes no videobook do Capítulo 19."
   ]
  },
  {
   "cell_type": "code",
   "execution_count": 20,
   "id": "f815687e",
   "metadata": {},
   "outputs": [],
   "source": [
    "# Callbacks\n",
    "early_stopping = EarlyStopping(monitor = 'val_loss', patience = 10, restore_best_weights = True)\n",
    "model_checkpoint = ModelCheckpoint('modelo_dsa.keras', save_best_only = True)"
   ]
  },
  {
   "cell_type": "markdown",
   "id": "a2d59ac2",
   "metadata": {},
   "source": [
    "Este trecho de código define dois callbacks para o treinamento do modelo: EarlyStopping e ModelCheckpoint. Callbacks são ferramentas que permitem realizar certas ações em pontos específicos durante o treinamento.\n",
    "\n",
    "**early_stopping = EarlyStopping(...)**: Define um callback de parada antecipada (early stopping).\n",
    "\n",
    "**monitor='val_loss'**: Monitora a perda de validação (val_loss) durante o treinamento. A validação é um processo onde um conjunto separado de dados (dados de validação) é usado para avaliar o desempenho do modelo, ajudando a evitar o overfitting.\n",
    "\n",
    "**patience=10**: Define a paciência em 10 épocas. Isso significa que se a perda de validação não melhorar por 10 épocas consecutivas, o treinamento será interrompido.\n",
    "\n",
    "**restore_best_weights=True**: Restabelece os pesos do modelo para o estado em que apresentaram a melhor perda de validação. Isso garante que os pesos finais do modelo sejam os melhores encontrados durante o treinamento.\n",
    "\n",
    "**model_checkpoint = ModelCheckpoint(...)**: Define um callback de checkpoint do modelo.\n",
    "\n",
    "**'modelo_dsa.keras'**: Especifica o nome do arquivo onde o modelo será salvo.\n",
    "\n",
    "**save_best_only=True**: Salva o modelo apenas quando ele apresentar a melhor perda de validação até o momento. Isso evita salvar várias versões do modelo e garante que o melhor modelo encontrado durante o treinamento seja salvo.\n",
    "\n",
    "Em resumo, esses callbacks ajudam a:\n",
    "\n",
    "- Parar o treinamento antecipadamente se o modelo não estiver melhorando, economizando tempo e recursos computacionais.\n",
    "\n",
    "- Salvar automaticamente o melhor modelo encontrado durante o treinamento, garantindo que você tenha uma versão do modelo com o melhor desempenho."
   ]
  },
  {
   "cell_type": "markdown",
   "id": "a21f40c2",
   "metadata": {},
   "source": [
    "## Treinamento do Modelo"
   ]
  },
  {
   "cell_type": "code",
   "execution_count": 21,
   "id": "1819481d",
   "metadata": {},
   "outputs": [
    {
     "data": {
      "text/html": [
       "<pre style=\"white-space:pre;overflow-x:auto;line-height:normal;font-family:Menlo,'DejaVu Sans Mono',consolas,'Courier New',monospace\"><span style=\"font-weight: bold\">Model: \"sequential\"</span>\n",
       "</pre>\n"
      ],
      "text/plain": [
       "\u001b[1mModel: \"sequential\"\u001b[0m\n"
      ]
     },
     "metadata": {},
     "output_type": "display_data"
    },
    {
     "data": {
      "text/html": [
       "<pre style=\"white-space:pre;overflow-x:auto;line-height:normal;font-family:Menlo,'DejaVu Sans Mono',consolas,'Courier New',monospace\">┏━━━━━━━━━━━━━━━━━━━━━━━━━━━━━━━━━┳━━━━━━━━━━━━━━━━━━━━━━━━┳━━━━━━━━━━━━━━━┓\n",
       "┃<span style=\"font-weight: bold\"> Layer (type)                    </span>┃<span style=\"font-weight: bold\"> Output Shape           </span>┃<span style=\"font-weight: bold\">       Param # </span>┃\n",
       "┡━━━━━━━━━━━━━━━━━━━━━━━━━━━━━━━━━╇━━━━━━━━━━━━━━━━━━━━━━━━╇━━━━━━━━━━━━━━━┩\n",
       "│ dense (<span style=\"color: #0087ff; text-decoration-color: #0087ff\">Dense</span>)                   │ (<span style=\"color: #00d7ff; text-decoration-color: #00d7ff\">None</span>, <span style=\"color: #00af00; text-decoration-color: #00af00\">64</span>)             │           <span style=\"color: #00af00; text-decoration-color: #00af00\">704</span> │\n",
       "├─────────────────────────────────┼────────────────────────┼───────────────┤\n",
       "│ dropout (<span style=\"color: #0087ff; text-decoration-color: #0087ff\">Dropout</span>)               │ (<span style=\"color: #00d7ff; text-decoration-color: #00d7ff\">None</span>, <span style=\"color: #00af00; text-decoration-color: #00af00\">64</span>)             │             <span style=\"color: #00af00; text-decoration-color: #00af00\">0</span> │\n",
       "├─────────────────────────────────┼────────────────────────┼───────────────┤\n",
       "│ dense_1 (<span style=\"color: #0087ff; text-decoration-color: #0087ff\">Dense</span>)                 │ (<span style=\"color: #00d7ff; text-decoration-color: #00d7ff\">None</span>, <span style=\"color: #00af00; text-decoration-color: #00af00\">32</span>)             │         <span style=\"color: #00af00; text-decoration-color: #00af00\">2,080</span> │\n",
       "├─────────────────────────────────┼────────────────────────┼───────────────┤\n",
       "│ dropout_1 (<span style=\"color: #0087ff; text-decoration-color: #0087ff\">Dropout</span>)             │ (<span style=\"color: #00d7ff; text-decoration-color: #00d7ff\">None</span>, <span style=\"color: #00af00; text-decoration-color: #00af00\">32</span>)             │             <span style=\"color: #00af00; text-decoration-color: #00af00\">0</span> │\n",
       "├─────────────────────────────────┼────────────────────────┼───────────────┤\n",
       "│ dense_2 (<span style=\"color: #0087ff; text-decoration-color: #0087ff\">Dense</span>)                 │ (<span style=\"color: #00d7ff; text-decoration-color: #00d7ff\">None</span>, <span style=\"color: #00af00; text-decoration-color: #00af00\">16</span>)             │           <span style=\"color: #00af00; text-decoration-color: #00af00\">528</span> │\n",
       "├─────────────────────────────────┼────────────────────────┼───────────────┤\n",
       "│ dense_3 (<span style=\"color: #0087ff; text-decoration-color: #0087ff\">Dense</span>)                 │ (<span style=\"color: #00d7ff; text-decoration-color: #00d7ff\">None</span>, <span style=\"color: #00af00; text-decoration-color: #00af00\">1</span>)              │            <span style=\"color: #00af00; text-decoration-color: #00af00\">17</span> │\n",
       "└─────────────────────────────────┴────────────────────────┴───────────────┘\n",
       "</pre>\n"
      ],
      "text/plain": [
       "┏━━━━━━━━━━━━━━━━━━━━━━━━━━━━━━━━━┳━━━━━━━━━━━━━━━━━━━━━━━━┳━━━━━━━━━━━━━━━┓\n",
       "┃\u001b[1m \u001b[0m\u001b[1mLayer (type)                   \u001b[0m\u001b[1m \u001b[0m┃\u001b[1m \u001b[0m\u001b[1mOutput Shape          \u001b[0m\u001b[1m \u001b[0m┃\u001b[1m \u001b[0m\u001b[1m      Param #\u001b[0m\u001b[1m \u001b[0m┃\n",
       "┡━━━━━━━━━━━━━━━━━━━━━━━━━━━━━━━━━╇━━━━━━━━━━━━━━━━━━━━━━━━╇━━━━━━━━━━━━━━━┩\n",
       "│ dense (\u001b[38;5;33mDense\u001b[0m)                   │ (\u001b[38;5;45mNone\u001b[0m, \u001b[38;5;34m64\u001b[0m)             │           \u001b[38;5;34m704\u001b[0m │\n",
       "├─────────────────────────────────┼────────────────────────┼───────────────┤\n",
       "│ dropout (\u001b[38;5;33mDropout\u001b[0m)               │ (\u001b[38;5;45mNone\u001b[0m, \u001b[38;5;34m64\u001b[0m)             │             \u001b[38;5;34m0\u001b[0m │\n",
       "├─────────────────────────────────┼────────────────────────┼───────────────┤\n",
       "│ dense_1 (\u001b[38;5;33mDense\u001b[0m)                 │ (\u001b[38;5;45mNone\u001b[0m, \u001b[38;5;34m32\u001b[0m)             │         \u001b[38;5;34m2,080\u001b[0m │\n",
       "├─────────────────────────────────┼────────────────────────┼───────────────┤\n",
       "│ dropout_1 (\u001b[38;5;33mDropout\u001b[0m)             │ (\u001b[38;5;45mNone\u001b[0m, \u001b[38;5;34m32\u001b[0m)             │             \u001b[38;5;34m0\u001b[0m │\n",
       "├─────────────────────────────────┼────────────────────────┼───────────────┤\n",
       "│ dense_2 (\u001b[38;5;33mDense\u001b[0m)                 │ (\u001b[38;5;45mNone\u001b[0m, \u001b[38;5;34m16\u001b[0m)             │           \u001b[38;5;34m528\u001b[0m │\n",
       "├─────────────────────────────────┼────────────────────────┼───────────────┤\n",
       "│ dense_3 (\u001b[38;5;33mDense\u001b[0m)                 │ (\u001b[38;5;45mNone\u001b[0m, \u001b[38;5;34m1\u001b[0m)              │            \u001b[38;5;34m17\u001b[0m │\n",
       "└─────────────────────────────────┴────────────────────────┴───────────────┘\n"
      ]
     },
     "metadata": {},
     "output_type": "display_data"
    },
    {
     "data": {
      "text/html": [
       "<pre style=\"white-space:pre;overflow-x:auto;line-height:normal;font-family:Menlo,'DejaVu Sans Mono',consolas,'Courier New',monospace\"><span style=\"font-weight: bold\"> Total params: </span><span style=\"color: #00af00; text-decoration-color: #00af00\">3,329</span> (13.00 KB)\n",
       "</pre>\n"
      ],
      "text/plain": [
       "\u001b[1m Total params: \u001b[0m\u001b[38;5;34m3,329\u001b[0m (13.00 KB)\n"
      ]
     },
     "metadata": {},
     "output_type": "display_data"
    },
    {
     "data": {
      "text/html": [
       "<pre style=\"white-space:pre;overflow-x:auto;line-height:normal;font-family:Menlo,'DejaVu Sans Mono',consolas,'Courier New',monospace\"><span style=\"font-weight: bold\"> Trainable params: </span><span style=\"color: #00af00; text-decoration-color: #00af00\">3,329</span> (13.00 KB)\n",
       "</pre>\n"
      ],
      "text/plain": [
       "\u001b[1m Trainable params: \u001b[0m\u001b[38;5;34m3,329\u001b[0m (13.00 KB)\n"
      ]
     },
     "metadata": {},
     "output_type": "display_data"
    },
    {
     "data": {
      "text/html": [
       "<pre style=\"white-space:pre;overflow-x:auto;line-height:normal;font-family:Menlo,'DejaVu Sans Mono',consolas,'Courier New',monospace\"><span style=\"font-weight: bold\"> Non-trainable params: </span><span style=\"color: #00af00; text-decoration-color: #00af00\">0</span> (0.00 B)\n",
       "</pre>\n"
      ],
      "text/plain": [
       "\u001b[1m Non-trainable params: \u001b[0m\u001b[38;5;34m0\u001b[0m (0.00 B)\n"
      ]
     },
     "metadata": {},
     "output_type": "display_data"
    }
   ],
   "source": [
    "modelo_dsa.summary()"
   ]
  },
  {
   "cell_type": "code",
   "execution_count": 22,
   "id": "506071c7",
   "metadata": {},
   "outputs": [
    {
     "name": "stdout",
     "output_type": "stream",
     "text": [
      "Epoch 1/100\n",
      "\u001b[1m3/3\u001b[0m \u001b[32m━━━━━━━━━━━━━━━━━━━━\u001b[0m\u001b[37m\u001b[0m \u001b[1m3s\u001b[0m 223ms/step - loss: 5220.9756 - mae: 72.1158 - val_loss: 5236.6953 - val_mae: 72.2626\n",
      "Epoch 2/100\n",
      "\u001b[1m3/3\u001b[0m \u001b[32m━━━━━━━━━━━━━━━━━━━━\u001b[0m\u001b[37m\u001b[0m \u001b[1m0s\u001b[0m 63ms/step - loss: 5245.2578 - mae: 72.2931 - val_loss: 5222.9785 - val_mae: 72.1682\n",
      "Epoch 3/100\n",
      "\u001b[1m3/3\u001b[0m \u001b[32m━━━━━━━━━━━━━━━━━━━━\u001b[0m\u001b[37m\u001b[0m \u001b[1m0s\u001b[0m 58ms/step - loss: 5219.4067 - mae: 72.1164 - val_loss: 5211.4375 - val_mae: 72.0884\n",
      "Epoch 4/100\n",
      "\u001b[1m3/3\u001b[0m \u001b[32m━━━━━━━━━━━━━━━━━━━━\u001b[0m\u001b[37m\u001b[0m \u001b[1m0s\u001b[0m 107ms/step - loss: 5192.1001 - mae: 71.9055 - val_loss: 5199.5601 - val_mae: 72.0059\n",
      "Epoch 5/100\n",
      "\u001b[1m3/3\u001b[0m \u001b[32m━━━━━━━━━━━━━━━━━━━━\u001b[0m\u001b[37m\u001b[0m \u001b[1m0s\u001b[0m 74ms/step - loss: 5259.0913 - mae: 72.3923 - val_loss: 5187.2402 - val_mae: 71.9204\n",
      "Epoch 6/100\n",
      "\u001b[1m3/3\u001b[0m \u001b[32m━━━━━━━━━━━━━━━━━━━━\u001b[0m\u001b[37m\u001b[0m \u001b[1m0s\u001b[0m 71ms/step - loss: 5201.6611 - mae: 71.9980 - val_loss: 5174.2271 - val_mae: 71.8300\n",
      "Epoch 7/100\n",
      "\u001b[1m3/3\u001b[0m \u001b[32m━━━━━━━━━━━━━━━━━━━━\u001b[0m\u001b[37m\u001b[0m \u001b[1m0s\u001b[0m 62ms/step - loss: 5141.5078 - mae: 71.5723 - val_loss: 5159.6768 - val_mae: 71.7288\n",
      "Epoch 8/100\n",
      "\u001b[1m3/3\u001b[0m \u001b[32m━━━━━━━━━━━━━━━━━━━━\u001b[0m\u001b[37m\u001b[0m \u001b[1m0s\u001b[0m 65ms/step - loss: 5117.6597 - mae: 71.4003 - val_loss: 5143.5308 - val_mae: 71.6164\n",
      "Epoch 9/100\n",
      "\u001b[1m3/3\u001b[0m \u001b[32m━━━━━━━━━━━━━━━━━━━━\u001b[0m\u001b[37m\u001b[0m \u001b[1m0s\u001b[0m 64ms/step - loss: 5163.0186 - mae: 71.7192 - val_loss: 5125.3857 - val_mae: 71.4898\n",
      "Epoch 10/100\n",
      "\u001b[1m3/3\u001b[0m \u001b[32m━━━━━━━━━━━━━━━━━━━━\u001b[0m\u001b[37m\u001b[0m \u001b[1m0s\u001b[0m 75ms/step - loss: 5114.9238 - mae: 71.3847 - val_loss: 5104.3818 - val_mae: 71.3430\n",
      "Epoch 11/100\n",
      "\u001b[1m3/3\u001b[0m \u001b[32m━━━━━━━━━━━━━━━━━━━━\u001b[0m\u001b[37m\u001b[0m \u001b[1m0s\u001b[0m 72ms/step - loss: 5149.5239 - mae: 71.6138 - val_loss: 5079.6475 - val_mae: 71.1697\n",
      "Epoch 12/100\n",
      "\u001b[1m3/3\u001b[0m \u001b[32m━━━━━━━━━━━━━━━━━━━━\u001b[0m\u001b[37m\u001b[0m \u001b[1m0s\u001b[0m 67ms/step - loss: 5058.2988 - mae: 70.9877 - val_loss: 5051.1265 - val_mae: 70.9695\n",
      "Epoch 13/100\n",
      "\u001b[1m3/3\u001b[0m \u001b[32m━━━━━━━━━━━━━━━━━━━━\u001b[0m\u001b[37m\u001b[0m \u001b[1m0s\u001b[0m 61ms/step - loss: 5056.8354 - mae: 70.9731 - val_loss: 5017.7700 - val_mae: 70.7348\n",
      "Epoch 14/100\n",
      "\u001b[1m3/3\u001b[0m \u001b[32m━━━━━━━━━━━━━━━━━━━━\u001b[0m\u001b[37m\u001b[0m \u001b[1m0s\u001b[0m 61ms/step - loss: 5037.9712 - mae: 70.8253 - val_loss: 4980.1548 - val_mae: 70.4690\n",
      "Epoch 15/100\n",
      "\u001b[1m3/3\u001b[0m \u001b[32m━━━━━━━━━━━━━━━━━━━━\u001b[0m\u001b[37m\u001b[0m \u001b[1m0s\u001b[0m 71ms/step - loss: 4974.5518 - mae: 70.3979 - val_loss: 4937.4834 - val_mae: 70.1664\n",
      "Epoch 16/100\n",
      "\u001b[1m3/3\u001b[0m \u001b[32m━━━━━━━━━━━━━━━━━━━━\u001b[0m\u001b[37m\u001b[0m \u001b[1m0s\u001b[0m 76ms/step - loss: 4905.2935 - mae: 69.8815 - val_loss: 4889.2915 - val_mae: 69.8229\n",
      "Epoch 17/100\n",
      "\u001b[1m3/3\u001b[0m \u001b[32m━━━━━━━━━━━━━━━━━━━━\u001b[0m\u001b[37m\u001b[0m \u001b[1m0s\u001b[0m 162ms/step - loss: 4904.2881 - mae: 69.8781 - val_loss: 4834.9019 - val_mae: 69.4332\n",
      "Epoch 18/100\n",
      "\u001b[1m3/3\u001b[0m \u001b[32m━━━━━━━━━━━━━━━━━━━━\u001b[0m\u001b[37m\u001b[0m \u001b[1m0s\u001b[0m 71ms/step - loss: 4813.2236 - mae: 69.2054 - val_loss: 4774.1938 - val_mae: 68.9955\n",
      "Epoch 19/100\n",
      "\u001b[1m3/3\u001b[0m \u001b[32m━━━━━━━━━━━━━━━━━━━━\u001b[0m\u001b[37m\u001b[0m \u001b[1m0s\u001b[0m 78ms/step - loss: 4751.2368 - mae: 68.7798 - val_loss: 4706.0874 - val_mae: 68.5011\n",
      "Epoch 20/100\n",
      "\u001b[1m3/3\u001b[0m \u001b[32m━━━━━━━━━━━━━━━━━━━━\u001b[0m\u001b[37m\u001b[0m \u001b[1m0s\u001b[0m 70ms/step - loss: 4683.2319 - mae: 68.2756 - val_loss: 4630.1113 - val_mae: 67.9452\n",
      "Epoch 21/100\n",
      "\u001b[1m3/3\u001b[0m \u001b[32m━━━━━━━━━━━━━━━━━━━━\u001b[0m\u001b[37m\u001b[0m \u001b[1m0s\u001b[0m 86ms/step - loss: 4664.1567 - mae: 68.1266 - val_loss: 4546.7715 - val_mae: 67.3298\n",
      "Epoch 22/100\n",
      "\u001b[1m3/3\u001b[0m \u001b[32m━━━━━━━━━━━━━━━━━━━━\u001b[0m\u001b[37m\u001b[0m \u001b[1m0s\u001b[0m 64ms/step - loss: 4517.4141 - mae: 67.0330 - val_loss: 4454.1465 - val_mae: 66.6388\n",
      "Epoch 23/100\n",
      "\u001b[1m3/3\u001b[0m \u001b[32m━━━━━━━━━━━━━━━━━━━━\u001b[0m\u001b[37m\u001b[0m \u001b[1m0s\u001b[0m 59ms/step - loss: 4399.2036 - mae: 66.1472 - val_loss: 4351.1938 - val_mae: 65.8617\n",
      "Epoch 24/100\n",
      "\u001b[1m3/3\u001b[0m \u001b[32m━━━━━━━━━━━━━━━━━━━━\u001b[0m\u001b[37m\u001b[0m \u001b[1m0s\u001b[0m 61ms/step - loss: 4326.4658 - mae: 65.6099 - val_loss: 4237.2227 - val_mae: 64.9900\n",
      "Epoch 25/100\n",
      "\u001b[1m3/3\u001b[0m \u001b[32m━━━━━━━━━━━━━━━━━━━━\u001b[0m\u001b[37m\u001b[0m \u001b[1m0s\u001b[0m 72ms/step - loss: 4222.4595 - mae: 64.7573 - val_loss: 4111.6943 - val_mae: 64.0157\n",
      "Epoch 26/100\n",
      "\u001b[1m3/3\u001b[0m \u001b[32m━━━━━━━━━━━━━━━━━━━━\u001b[0m\u001b[37m\u001b[0m \u001b[1m0s\u001b[0m 67ms/step - loss: 4153.9600 - mae: 64.2669 - val_loss: 3974.1289 - val_mae: 62.9298\n",
      "Epoch 27/100\n",
      "\u001b[1m3/3\u001b[0m \u001b[32m━━━━━━━━━━━━━━━━━━━━\u001b[0m\u001b[37m\u001b[0m \u001b[1m0s\u001b[0m 75ms/step - loss: 3952.6267 - mae: 62.6756 - val_loss: 3824.3022 - val_mae: 61.7244\n",
      "Epoch 28/100\n",
      "\u001b[1m3/3\u001b[0m \u001b[32m━━━━━━━━━━━━━━━━━━━━\u001b[0m\u001b[37m\u001b[0m \u001b[1m0s\u001b[0m 93ms/step - loss: 3854.0730 - mae: 61.7625 - val_loss: 3660.1587 - val_mae: 60.3750\n",
      "Epoch 29/100\n",
      "\u001b[1m3/3\u001b[0m \u001b[32m━━━━━━━━━━━━━━━━━━━━\u001b[0m\u001b[37m\u001b[0m \u001b[1m0s\u001b[0m 62ms/step - loss: 3547.2822 - mae: 59.1670 - val_loss: 3481.1790 - val_mae: 58.8665\n",
      "Epoch 30/100\n",
      "\u001b[1m3/3\u001b[0m \u001b[32m━━━━━━━━━━━━━━━━━━━━\u001b[0m\u001b[37m\u001b[0m \u001b[1m0s\u001b[0m 62ms/step - loss: 3441.0288 - mae: 58.3337 - val_loss: 3287.2573 - val_mae: 57.1847\n",
      "Epoch 31/100\n",
      "\u001b[1m3/3\u001b[0m \u001b[32m━━━━━━━━━━━━━━━━━━━━\u001b[0m\u001b[37m\u001b[0m \u001b[1m0s\u001b[0m 56ms/step - loss: 3158.9033 - mae: 55.7937 - val_loss: 3076.5591 - val_mae: 55.2966\n",
      "Epoch 32/100\n",
      "\u001b[1m3/3\u001b[0m \u001b[32m━━━━━━━━━━━━━━━━━━━━\u001b[0m\u001b[37m\u001b[0m \u001b[1m0s\u001b[0m 65ms/step - loss: 3099.2056 - mae: 55.2746 - val_loss: 2851.8125 - val_mae: 53.2056\n",
      "Epoch 33/100\n",
      "\u001b[1m3/3\u001b[0m \u001b[32m━━━━━━━━━━━━━━━━━━━━\u001b[0m\u001b[37m\u001b[0m \u001b[1m0s\u001b[0m 71ms/step - loss: 2891.7932 - mae: 53.2739 - val_loss: 2613.9761 - val_mae: 50.8939\n",
      "Epoch 34/100\n",
      "\u001b[1m3/3\u001b[0m \u001b[32m━━━━━━━━━━━━━━━━━━━━\u001b[0m\u001b[37m\u001b[0m \u001b[1m0s\u001b[0m 61ms/step - loss: 2502.4058 - mae: 49.4228 - val_loss: 2367.2341 - val_mae: 48.3719\n",
      "Epoch 35/100\n",
      "\u001b[1m3/3\u001b[0m \u001b[32m━━━━━━━━━━━━━━━━━━━━\u001b[0m\u001b[37m\u001b[0m \u001b[1m0s\u001b[0m 61ms/step - loss: 2233.8542 - mae: 46.4169 - val_loss: 2114.3325 - val_mae: 45.6324\n",
      "Epoch 36/100\n",
      "\u001b[1m3/3\u001b[0m \u001b[32m━━━━━━━━━━━━━━━━━━━━\u001b[0m\u001b[37m\u001b[0m \u001b[1m0s\u001b[0m 63ms/step - loss: 1959.3787 - mae: 42.6495 - val_loss: 1858.6904 - val_mae: 42.6726\n",
      "Epoch 37/100\n",
      "\u001b[1m3/3\u001b[0m \u001b[32m━━━━━━━━━━━━━━━━━━━━\u001b[0m\u001b[37m\u001b[0m \u001b[1m0s\u001b[0m 62ms/step - loss: 1729.4812 - mae: 40.1229 - val_loss: 1605.2158 - val_mae: 39.5040\n",
      "Epoch 38/100\n",
      "\u001b[1m3/3\u001b[0m \u001b[32m━━━━━━━━━━━━━━━━━━━━\u001b[0m\u001b[37m\u001b[0m \u001b[1m0s\u001b[0m 64ms/step - loss: 1733.9946 - mae: 39.7915 - val_loss: 1359.3086 - val_mae: 36.1506\n",
      "Epoch 39/100\n",
      "\u001b[1m3/3\u001b[0m \u001b[32m━━━━━━━━━━━━━━━━━━━━\u001b[0m\u001b[37m\u001b[0m \u001b[1m0s\u001b[0m 69ms/step - loss: 1346.5234 - mae: 34.5467 - val_loss: 1126.3685 - val_mae: 32.6296\n",
      "Epoch 40/100\n",
      "\u001b[1m3/3\u001b[0m \u001b[32m━━━━━━━━━━━━━━━━━━━━\u001b[0m\u001b[37m\u001b[0m \u001b[1m0s\u001b[0m 58ms/step - loss: 1165.8027 - mae: 31.0836 - val_loss: 914.5125 - val_mae: 29.0290\n",
      "Epoch 41/100\n",
      "\u001b[1m3/3\u001b[0m \u001b[32m━━━━━━━━━━━━━━━━━━━━\u001b[0m\u001b[37m\u001b[0m \u001b[1m0s\u001b[0m 77ms/step - loss: 890.7668 - mae: 26.9163 - val_loss: 728.0312 - val_mae: 25.3950\n",
      "Epoch 42/100\n",
      "\u001b[1m3/3\u001b[0m \u001b[32m━━━━━━━━━━━━━━━━━━━━\u001b[0m\u001b[37m\u001b[0m \u001b[1m0s\u001b[0m 60ms/step - loss: 779.4175 - mae: 24.4849 - val_loss: 569.7876 - val_mae: 21.7854\n",
      "Epoch 43/100\n",
      "\u001b[1m3/3\u001b[0m \u001b[32m━━━━━━━━━━━━━━━━━━━━\u001b[0m\u001b[37m\u001b[0m \u001b[1m0s\u001b[0m 56ms/step - loss: 693.5872 - mae: 23.0661 - val_loss: 439.2167 - val_mae: 18.2750\n",
      "Epoch 44/100\n",
      "\u001b[1m3/3\u001b[0m \u001b[32m━━━━━━━━━━━━━━━━━━━━\u001b[0m\u001b[37m\u001b[0m \u001b[1m0s\u001b[0m 61ms/step - loss: 446.3009 - mae: 17.5308 - val_loss: 344.0624 - val_mae: 15.4938\n",
      "Epoch 45/100\n",
      "\u001b[1m3/3\u001b[0m \u001b[32m━━━━━━━━━━━━━━━━━━━━\u001b[0m\u001b[37m\u001b[0m \u001b[1m0s\u001b[0m 68ms/step - loss: 428.4541 - mae: 16.8391 - val_loss: 277.9090 - val_mae: 13.5721\n",
      "Epoch 46/100\n",
      "\u001b[1m3/3\u001b[0m \u001b[32m━━━━━━━━━━━━━━━━━━━━\u001b[0m\u001b[37m\u001b[0m \u001b[1m0s\u001b[0m 90ms/step - loss: 389.3760 - mae: 16.2838 - val_loss: 235.9456 - val_mae: 12.6585\n",
      "Epoch 47/100\n",
      "\u001b[1m3/3\u001b[0m \u001b[32m━━━━━━━━━━━━━━━━━━━━\u001b[0m\u001b[37m\u001b[0m \u001b[1m0s\u001b[0m 62ms/step - loss: 539.4738 - mae: 18.9865 - val_loss: 211.5217 - val_mae: 12.1160\n",
      "Epoch 48/100\n",
      "\u001b[1m3/3\u001b[0m \u001b[32m━━━━━━━━━━━━━━━━━━━━\u001b[0m\u001b[37m\u001b[0m \u001b[1m0s\u001b[0m 63ms/step - loss: 390.4189 - mae: 15.5226 - val_loss: 198.8315 - val_mae: 11.7282\n",
      "Epoch 49/100\n",
      "\u001b[1m3/3\u001b[0m \u001b[32m━━━━━━━━━━━━━━━━━━━━\u001b[0m\u001b[37m\u001b[0m \u001b[1m0s\u001b[0m 60ms/step - loss: 473.6230 - mae: 18.1353 - val_loss: 194.0919 - val_mae: 11.4883\n",
      "Epoch 50/100\n",
      "\u001b[1m3/3\u001b[0m \u001b[32m━━━━━━━━━━━━━━━━━━━━\u001b[0m\u001b[37m\u001b[0m \u001b[1m0s\u001b[0m 46ms/step - loss: 438.1783 - mae: 16.7096 - val_loss: 196.9232 - val_mae: 11.5258\n",
      "Epoch 51/100\n",
      "\u001b[1m3/3\u001b[0m \u001b[32m━━━━━━━━━━━━━━━━━━━━\u001b[0m\u001b[37m\u001b[0m \u001b[1m0s\u001b[0m 55ms/step - loss: 239.2447 - mae: 12.1200 - val_loss: 201.9055 - val_mae: 11.6307\n",
      "Epoch 52/100\n",
      "\u001b[1m3/3\u001b[0m \u001b[32m━━━━━━━━━━━━━━━━━━━━\u001b[0m\u001b[37m\u001b[0m \u001b[1m0s\u001b[0m 46ms/step - loss: 454.9944 - mae: 17.5952 - val_loss: 208.9178 - val_mae: 11.7749\n",
      "Epoch 53/100\n",
      "\u001b[1m3/3\u001b[0m \u001b[32m━━━━━━━━━━━━━━━━━━━━\u001b[0m\u001b[37m\u001b[0m \u001b[1m0s\u001b[0m 51ms/step - loss: 490.9018 - mae: 18.1640 - val_loss: 219.7848 - val_mae: 12.1226\n",
      "Epoch 54/100\n",
      "\u001b[1m3/3\u001b[0m \u001b[32m━━━━━━━━━━━━━━━━━━━━\u001b[0m\u001b[37m\u001b[0m \u001b[1m0s\u001b[0m 43ms/step - loss: 364.3590 - mae: 15.6352 - val_loss: 230.0862 - val_mae: 12.4449\n",
      "Epoch 55/100\n",
      "\u001b[1m3/3\u001b[0m \u001b[32m━━━━━━━━━━━━━━━━━━━━\u001b[0m\u001b[37m\u001b[0m \u001b[1m0s\u001b[0m 41ms/step - loss: 435.4428 - mae: 16.8596 - val_loss: 239.0752 - val_mae: 12.6511\n",
      "Epoch 56/100\n",
      "\u001b[1m3/3\u001b[0m \u001b[32m━━━━━━━━━━━━━━━━━━━━\u001b[0m\u001b[37m\u001b[0m \u001b[1m0s\u001b[0m 43ms/step - loss: 395.7137 - mae: 15.8774 - val_loss: 245.2383 - val_mae: 12.7913\n",
      "Epoch 57/100\n",
      "\u001b[1m3/3\u001b[0m \u001b[32m━━━━━━━━━━━━━━━━━━━━\u001b[0m\u001b[37m\u001b[0m \u001b[1m0s\u001b[0m 43ms/step - loss: 347.1782 - mae: 14.9405 - val_loss: 244.9414 - val_mae: 12.6811\n",
      "Epoch 58/100\n",
      "\u001b[1m3/3\u001b[0m \u001b[32m━━━━━━━━━━━━━━━━━━━━\u001b[0m\u001b[37m\u001b[0m \u001b[1m0s\u001b[0m 49ms/step - loss: 375.8383 - mae: 16.6057 - val_loss: 242.3808 - val_mae: 12.5315\n",
      "Epoch 59/100\n",
      "\u001b[1m3/3\u001b[0m \u001b[32m━━━━━━━━━━━━━━━━━━━━\u001b[0m\u001b[37m\u001b[0m \u001b[1m0s\u001b[0m 50ms/step - loss: 391.5987 - mae: 16.2657 - val_loss: 239.4301 - val_mae: 12.4488\n"
     ]
    }
   ],
   "source": [
    "# Treinar o modelo\n",
    "history = modelo_dsa.fit(X_treino_scaled, \n",
    "                         y_treino,\n",
    "                         validation_split = 0.2,\n",
    "                         epochs = 100,\n",
    "                         batch_size = 32,\n",
    "                         callbacks = [early_stopping, model_checkpoint])"
   ]
  },
  {
   "cell_type": "markdown",
   "id": "76590868",
   "metadata": {},
   "source": [
    "## Avaliação do Modelo"
   ]
  },
  {
   "cell_type": "code",
   "execution_count": 23,
   "id": "871bc754",
   "metadata": {},
   "outputs": [
    {
     "name": "stdout",
     "output_type": "stream",
     "text": [
      "\u001b[1m1/1\u001b[0m \u001b[32m━━━━━━━━━━━━━━━━━━━━\u001b[0m\u001b[37m\u001b[0m \u001b[1m0s\u001b[0m 50ms/step - loss: 179.6167 - mae: 11.3784\n"
     ]
    }
   ],
   "source": [
    "# Avaliar o modelo no conjunto de teste\n",
    "teste_loss, teste_mae = modelo_dsa.evaluate(X_teste_scaled, y_teste)"
   ]
  },
  {
   "cell_type": "code",
   "execution_count": 24,
   "id": "00f4b45e",
   "metadata": {},
   "outputs": [
    {
     "name": "stdout",
     "output_type": "stream",
     "text": [
      "Teste Loss: 179.61671447753906\n",
      "Teste MAE: 11.37844467163086\n"
     ]
    }
   ],
   "source": [
    "print(f'Teste Loss: {teste_loss}')\n",
    "print(f'Teste MAE: {teste_mae}')"
   ]
  },
  {
   "cell_type": "markdown",
   "id": "7cdeb566",
   "metadata": {},
   "source": [
    "Vamos agora fazer o deploy do modelo via API no próximo capítulo."
   ]
  },
  {
   "cell_type": "code",
   "execution_count": null,
   "id": "a9a59e23",
   "metadata": {},
   "outputs": [],
   "source": [
    "%reload_ext watermark\n",
    "%watermark -a \"Data Science Academy\""
   ]
  },
  {
   "cell_type": "code",
   "execution_count": null,
   "id": "59e9459c",
   "metadata": {},
   "outputs": [],
   "source": [
    "#%watermark -v -m"
   ]
  },
  {
   "cell_type": "code",
   "execution_count": null,
   "id": "8554f32c",
   "metadata": {
    "scrolled": true
   },
   "outputs": [],
   "source": [
    "#%watermark --iversions"
   ]
  },
  {
   "cell_type": "markdown",
   "id": "959bbd1e",
   "metadata": {},
   "source": [
    "# Fim"
   ]
  }
 ],
 "metadata": {
  "kernelspec": {
   "display_name": "base",
   "language": "python",
   "name": "python3"
  },
  "language_info": {
   "codemirror_mode": {
    "name": "ipython",
    "version": 3
   },
   "file_extension": ".py",
   "mimetype": "text/x-python",
   "name": "python",
   "nbconvert_exporter": "python",
   "pygments_lexer": "ipython3",
   "version": "3.12.7"
  }
 },
 "nbformat": 4,
 "nbformat_minor": 5
}
